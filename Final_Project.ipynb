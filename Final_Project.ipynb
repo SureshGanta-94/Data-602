{
 "cells": [
  {
   "cell_type": "markdown",
   "id": "1433285b",
   "metadata": {},
   "source": [
    "# NYPD Arrest Data"
   ]
  },
  {
   "cell_type": "markdown",
   "id": "3e277a4a",
   "metadata": {},
   "source": [
    "### About the Dataset:\n",
    "- This is a breakdown of every arrest effected in NYC by the NYPD during the current year.\n",
    "- This data is manually extracted every quarter and reviewed by the Office of Management Analysis and Planning.\n",
    "- Each record represents an arrest effected in NYC by the NYPD and includes information about the type of crime, the location and time of enforcement.\n",
    "- In addition, information related to suspect demographics is also included.\n",
    "- This data can be used by the public to explore the nature of police enforcement activity."
   ]
  },
  {
   "cell_type": "markdown",
   "id": "65991ae5",
   "metadata": {},
   "source": [
    "### Dataset Description\n",
    "The dataset retrieved from 'NYC OpenData'. This has information about number of arrests made in the current fiscal year(2021). This dataset is update frequncy is every quarter.\n",
    "\n",
    "<b>Dataset Source</b>: https://data.cityofnewyork.us/Public-Safety/NYPD-Arrest-Data-Year-to-Date-/uip8-fykc/data "
   ]
  },
  {
   "cell_type": "markdown",
   "id": "bbd2b2c8",
   "metadata": {},
   "source": [
    "### Columns in the Dataset\n",
    "\n",
    "- <b>ARREST_KEY</b>: Randomly generated persistent ID for each arrest\n",
    "- <b>ARREST_DATE</b>: Exact date of arrest for the reported event\n",
    "- <b>PD_CD</b>: Three digit internal classification code (more granular than Key Code)\n",
    "- <b>PD_DESC</b>: Description of internal classification corresponding with PD code (more granular than Offense Description)\n",
    "- <b>KY_CD</b>: Three digit internal classification code (more general category than PD code)\n",
    "- <b>OFNS_DESC</b>: Description of internal classification corresponding with KY code (more general category than PD description)\n",
    "- <b>LAW_CODE</b>: Law code charges corresponding to the NYS Penal Law, VTL and other various local laws\n",
    "- <b>LAW_CAT_CD</b>: Level of offense: felony, misdemeanor, violation\n",
    "- <b>ARREST_BORO</b>: Borough of arrest. B(Bronx), S(Staten Island), K(Brooklyn), M(Manhattan), Q(Queens)\n",
    "- <b>ARREST_PRECINCT</b>: Precinct where the arrest occurred\n",
    "- <b>JURISDICTION_CODE</b>: Jurisdiction responsible for arrest. Jurisdiction codes 0(Patrol), 1(Transit) and 2(Housing) represent NYPD whilst codes 3 and more represent non NYPD jurisdictions\n",
    "- <b>AGE_GROUP</b>: Perpetrator’s age within a category\n",
    "- <b>PERP_SEX</b>: Perpetrator’s sex description\n",
    "- <b>PERP_RACE</b>: Perpetrator’s race description\n",
    "- <b>X_COORD_CD</b>: Midblock X-coordinate for New York State Plane Coordinate System, Long Island Zone, NAD 83, units feet (FIPS 3104)\n",
    "- <b>Y_COORD_CD</b>: Midblock Y-coordinate for New York State Plane Coordinate System, Long Island Zone, NAD 83, units feet (FIPS 3104)\n",
    "- <b>Latitude</b>: Latitude coordinate for Global Coordinate System, WGS 1984, decimal degrees (EPSG 4326)\n",
    "- <b>Longitude</b>: Longitude coordinate for Global Coordinate System, WGS 1984, decimal degrees (EPSG 4326)\n",
    "- <b>New Georeferenced Column</b>: pinpoints geocode of the location"
   ]
  },
  {
   "cell_type": "code",
   "execution_count": 1,
   "id": "8046b479",
   "metadata": {},
   "outputs": [],
   "source": [
    "# importing required libraries\n",
    "import pandas as pd\n",
    "import matplotlib.pyplot as plt\n",
    "%matplotlib inline\n",
    "import numpy as np\n",
    "import seaborn as sns"
   ]
  },
  {
   "cell_type": "code",
   "execution_count": 2,
   "id": "a0059a64",
   "metadata": {},
   "outputs": [],
   "source": [
    "# creating dataframe\n",
    "df = pd.read_csv('https://raw.githubusercontent.com/suresh1308/DATA602/main/Data/NYPD_Arrest_Data__Year_to_Date_.csv')"
   ]
  },
  {
   "cell_type": "markdown",
   "id": "63d389d6",
   "metadata": {},
   "source": [
    "## Exploring Dataset"
   ]
  },
  {
   "cell_type": "code",
   "execution_count": 3,
   "id": "225880b3",
   "metadata": {},
   "outputs": [
    {
     "data": {
      "text/html": [
       "<div>\n",
       "<style scoped>\n",
       "    .dataframe tbody tr th:only-of-type {\n",
       "        vertical-align: middle;\n",
       "    }\n",
       "\n",
       "    .dataframe tbody tr th {\n",
       "        vertical-align: top;\n",
       "    }\n",
       "\n",
       "    .dataframe thead th {\n",
       "        text-align: right;\n",
       "    }\n",
       "</style>\n",
       "<table border=\"1\" class=\"dataframe\">\n",
       "  <thead>\n",
       "    <tr style=\"text-align: right;\">\n",
       "      <th></th>\n",
       "      <th>ARREST_KEY</th>\n",
       "      <th>ARREST_DATE</th>\n",
       "      <th>PD_CD</th>\n",
       "      <th>PD_DESC</th>\n",
       "      <th>KY_CD</th>\n",
       "      <th>OFNS_DESC</th>\n",
       "      <th>LAW_CODE</th>\n",
       "      <th>LAW_CAT_CD</th>\n",
       "      <th>ARREST_BORO</th>\n",
       "      <th>ARREST_PRECINCT</th>\n",
       "      <th>JURISDICTION_CODE</th>\n",
       "      <th>AGE_GROUP</th>\n",
       "      <th>PERP_SEX</th>\n",
       "      <th>PERP_RACE</th>\n",
       "      <th>X_COORD_CD</th>\n",
       "      <th>Y_COORD_CD</th>\n",
       "      <th>Latitude</th>\n",
       "      <th>Longitude</th>\n",
       "      <th>New Georeferenced Column</th>\n",
       "    </tr>\n",
       "  </thead>\n",
       "  <tbody>\n",
       "    <tr>\n",
       "      <th>0</th>\n",
       "      <td>238013474</td>\n",
       "      <td>12/18/2021</td>\n",
       "      <td>157.0</td>\n",
       "      <td>RAPE 1</td>\n",
       "      <td>104.0</td>\n",
       "      <td>RAPE</td>\n",
       "      <td>PL 1303501</td>\n",
       "      <td>F</td>\n",
       "      <td>Q</td>\n",
       "      <td>105</td>\n",
       "      <td>97</td>\n",
       "      <td>18-24</td>\n",
       "      <td>M</td>\n",
       "      <td>BLACK</td>\n",
       "      <td>1057636</td>\n",
       "      <td>203954</td>\n",
       "      <td>40.726187</td>\n",
       "      <td>-73.735234</td>\n",
       "      <td>POINT (-73.73523390399998 40.72618713000002)</td>\n",
       "    </tr>\n",
       "    <tr>\n",
       "      <th>1</th>\n",
       "      <td>236943583</td>\n",
       "      <td>11/25/2021</td>\n",
       "      <td>263.0</td>\n",
       "      <td>ARSON 2,3,4</td>\n",
       "      <td>114.0</td>\n",
       "      <td>ARSON</td>\n",
       "      <td>PL 1501500</td>\n",
       "      <td>F</td>\n",
       "      <td>K</td>\n",
       "      <td>69</td>\n",
       "      <td>71</td>\n",
       "      <td>25-44</td>\n",
       "      <td>M</td>\n",
       "      <td>BLACK</td>\n",
       "      <td>1014340</td>\n",
       "      <td>171320</td>\n",
       "      <td>40.636868</td>\n",
       "      <td>-73.891586</td>\n",
       "      <td>POINT (-73.89158591899997 40.63686750900007)</td>\n",
       "    </tr>\n",
       "    <tr>\n",
       "      <th>2</th>\n",
       "      <td>234938876</td>\n",
       "      <td>10/14/2021</td>\n",
       "      <td>594.0</td>\n",
       "      <td>OBSCENITY 1</td>\n",
       "      <td>116.0</td>\n",
       "      <td>SEX CRIMES</td>\n",
       "      <td>PL 2631100</td>\n",
       "      <td>F</td>\n",
       "      <td>K</td>\n",
       "      <td>61</td>\n",
       "      <td>0</td>\n",
       "      <td>25-44</td>\n",
       "      <td>M</td>\n",
       "      <td>WHITE</td>\n",
       "      <td>995244</td>\n",
       "      <td>155739</td>\n",
       "      <td>40.594145</td>\n",
       "      <td>-73.960415</td>\n",
       "      <td>POINT (-73.96041495199995 40.59414516900005)</td>\n",
       "    </tr>\n",
       "    <tr>\n",
       "      <th>3</th>\n",
       "      <td>234788259</td>\n",
       "      <td>10/11/2021</td>\n",
       "      <td>263.0</td>\n",
       "      <td>ARSON 2,3,4</td>\n",
       "      <td>114.0</td>\n",
       "      <td>ARSON</td>\n",
       "      <td>PL 1501001</td>\n",
       "      <td>F</td>\n",
       "      <td>B</td>\n",
       "      <td>42</td>\n",
       "      <td>71</td>\n",
       "      <td>18-24</td>\n",
       "      <td>M</td>\n",
       "      <td>BLACK</td>\n",
       "      <td>1009058</td>\n",
       "      <td>239616</td>\n",
       "      <td>40.824340</td>\n",
       "      <td>-73.910365</td>\n",
       "      <td>POINT (-73.91036538099996 40.82433953100008)</td>\n",
       "    </tr>\n",
       "    <tr>\n",
       "      <th>4</th>\n",
       "      <td>234188790</td>\n",
       "      <td>09/28/2021</td>\n",
       "      <td>578.0</td>\n",
       "      <td>NaN</td>\n",
       "      <td>NaN</td>\n",
       "      <td>NaN</td>\n",
       "      <td>PL 2223001</td>\n",
       "      <td>M</td>\n",
       "      <td>B</td>\n",
       "      <td>44</td>\n",
       "      <td>0</td>\n",
       "      <td>25-44</td>\n",
       "      <td>M</td>\n",
       "      <td>BLACK</td>\n",
       "      <td>1005169</td>\n",
       "      <td>246667</td>\n",
       "      <td>40.843703</td>\n",
       "      <td>-73.924395</td>\n",
       "      <td>POINT (-73.92439508899997 40.84370255600004)</td>\n",
       "    </tr>\n",
       "  </tbody>\n",
       "</table>\n",
       "</div>"
      ],
      "text/plain": [
       "   ARREST_KEY ARREST_DATE  PD_CD      PD_DESC  KY_CD   OFNS_DESC    LAW_CODE  \\\n",
       "0   238013474  12/18/2021  157.0       RAPE 1  104.0        RAPE  PL 1303501   \n",
       "1   236943583  11/25/2021  263.0  ARSON 2,3,4  114.0       ARSON  PL 1501500   \n",
       "2   234938876  10/14/2021  594.0  OBSCENITY 1  116.0  SEX CRIMES  PL 2631100   \n",
       "3   234788259  10/11/2021  263.0  ARSON 2,3,4  114.0       ARSON  PL 1501001   \n",
       "4   234188790  09/28/2021  578.0          NaN    NaN         NaN  PL 2223001   \n",
       "\n",
       "  LAW_CAT_CD ARREST_BORO  ARREST_PRECINCT  JURISDICTION_CODE AGE_GROUP  \\\n",
       "0          F           Q              105                 97     18-24   \n",
       "1          F           K               69                 71     25-44   \n",
       "2          F           K               61                  0     25-44   \n",
       "3          F           B               42                 71     18-24   \n",
       "4          M           B               44                  0     25-44   \n",
       "\n",
       "  PERP_SEX PERP_RACE  X_COORD_CD  Y_COORD_CD   Latitude  Longitude  \\\n",
       "0        M     BLACK     1057636      203954  40.726187 -73.735234   \n",
       "1        M     BLACK     1014340      171320  40.636868 -73.891586   \n",
       "2        M     WHITE      995244      155739  40.594145 -73.960415   \n",
       "3        M     BLACK     1009058      239616  40.824340 -73.910365   \n",
       "4        M     BLACK     1005169      246667  40.843703 -73.924395   \n",
       "\n",
       "                       New Georeferenced Column  \n",
       "0  POINT (-73.73523390399998 40.72618713000002)  \n",
       "1  POINT (-73.89158591899997 40.63686750900007)  \n",
       "2  POINT (-73.96041495199995 40.59414516900005)  \n",
       "3  POINT (-73.91036538099996 40.82433953100008)  \n",
       "4  POINT (-73.92439508899997 40.84370255600004)  "
      ]
     },
     "execution_count": 3,
     "metadata": {},
     "output_type": "execute_result"
    }
   ],
   "source": [
    "# checking the data in dataframe\n",
    "df.head()"
   ]
  },
  {
   "cell_type": "code",
   "execution_count": 4,
   "id": "3a5b21f0",
   "metadata": {},
   "outputs": [
    {
     "data": {
      "text/html": [
       "<div>\n",
       "<style scoped>\n",
       "    .dataframe tbody tr th:only-of-type {\n",
       "        vertical-align: middle;\n",
       "    }\n",
       "\n",
       "    .dataframe tbody tr th {\n",
       "        vertical-align: top;\n",
       "    }\n",
       "\n",
       "    .dataframe thead th {\n",
       "        text-align: right;\n",
       "    }\n",
       "</style>\n",
       "<table border=\"1\" class=\"dataframe\">\n",
       "  <thead>\n",
       "    <tr style=\"text-align: right;\">\n",
       "      <th></th>\n",
       "      <th>ARREST_KEY</th>\n",
       "      <th>PD_CD</th>\n",
       "      <th>KY_CD</th>\n",
       "      <th>ARREST_PRECINCT</th>\n",
       "      <th>JURISDICTION_CODE</th>\n",
       "      <th>X_COORD_CD</th>\n",
       "      <th>Y_COORD_CD</th>\n",
       "      <th>Latitude</th>\n",
       "      <th>Longitude</th>\n",
       "    </tr>\n",
       "  </thead>\n",
       "  <tbody>\n",
       "    <tr>\n",
       "      <th>count</th>\n",
       "      <td>1.555070e+05</td>\n",
       "      <td>155478.000000</td>\n",
       "      <td>155404.000000</td>\n",
       "      <td>155507.000000</td>\n",
       "      <td>155507.000000</td>\n",
       "      <td>1.555070e+05</td>\n",
       "      <td>155507.000000</td>\n",
       "      <td>155507.000000</td>\n",
       "      <td>155507.000000</td>\n",
       "    </tr>\n",
       "    <tr>\n",
       "      <th>mean</th>\n",
       "      <td>2.304676e+08</td>\n",
       "      <td>407.828066</td>\n",
       "      <td>244.962974</td>\n",
       "      <td>62.850322</td>\n",
       "      <td>0.912486</td>\n",
       "      <td>1.004996e+06</td>\n",
       "      <td>208163.457555</td>\n",
       "      <td>40.737994</td>\n",
       "      <td>-73.925113</td>\n",
       "    </tr>\n",
       "    <tr>\n",
       "      <th>std</th>\n",
       "      <td>4.628028e+06</td>\n",
       "      <td>275.739138</td>\n",
       "      <td>150.334545</td>\n",
       "      <td>35.258605</td>\n",
       "      <td>7.894204</td>\n",
       "      <td>2.152869e+04</td>\n",
       "      <td>29904.384015</td>\n",
       "      <td>0.082086</td>\n",
       "      <td>0.077640</td>\n",
       "    </tr>\n",
       "    <tr>\n",
       "      <th>min</th>\n",
       "      <td>2.224711e+08</td>\n",
       "      <td>0.000000</td>\n",
       "      <td>101.000000</td>\n",
       "      <td>1.000000</td>\n",
       "      <td>0.000000</td>\n",
       "      <td>9.142140e+05</td>\n",
       "      <td>121312.000000</td>\n",
       "      <td>40.499401</td>\n",
       "      <td>-74.251844</td>\n",
       "    </tr>\n",
       "    <tr>\n",
       "      <th>25%</th>\n",
       "      <td>2.263289e+08</td>\n",
       "      <td>113.000000</td>\n",
       "      <td>111.000000</td>\n",
       "      <td>34.000000</td>\n",
       "      <td>0.000000</td>\n",
       "      <td>9.912230e+05</td>\n",
       "      <td>185908.000000</td>\n",
       "      <td>40.676902</td>\n",
       "      <td>-73.974837</td>\n",
       "    </tr>\n",
       "    <tr>\n",
       "      <th>50%</th>\n",
       "      <td>2.306202e+08</td>\n",
       "      <td>339.000000</td>\n",
       "      <td>235.000000</td>\n",
       "      <td>62.000000</td>\n",
       "      <td>0.000000</td>\n",
       "      <td>1.004222e+06</td>\n",
       "      <td>207067.000000</td>\n",
       "      <td>40.735036</td>\n",
       "      <td>-73.927979</td>\n",
       "    </tr>\n",
       "    <tr>\n",
       "      <th>75%</th>\n",
       "      <td>2.344524e+08</td>\n",
       "      <td>705.000000</td>\n",
       "      <td>344.000000</td>\n",
       "      <td>101.000000</td>\n",
       "      <td>0.000000</td>\n",
       "      <td>1.017119e+06</td>\n",
       "      <td>235804.000000</td>\n",
       "      <td>40.813903</td>\n",
       "      <td>-73.881512</td>\n",
       "    </tr>\n",
       "    <tr>\n",
       "      <th>max</th>\n",
       "      <td>2.385139e+08</td>\n",
       "      <td>997.000000</td>\n",
       "      <td>995.000000</td>\n",
       "      <td>123.000000</td>\n",
       "      <td>97.000000</td>\n",
       "      <td>1.066928e+06</td>\n",
       "      <td>271820.000000</td>\n",
       "      <td>40.912723</td>\n",
       "      <td>-73.701612</td>\n",
       "    </tr>\n",
       "  </tbody>\n",
       "</table>\n",
       "</div>"
      ],
      "text/plain": [
       "         ARREST_KEY          PD_CD          KY_CD  ARREST_PRECINCT  \\\n",
       "count  1.555070e+05  155478.000000  155404.000000    155507.000000   \n",
       "mean   2.304676e+08     407.828066     244.962974        62.850322   \n",
       "std    4.628028e+06     275.739138     150.334545        35.258605   \n",
       "min    2.224711e+08       0.000000     101.000000         1.000000   \n",
       "25%    2.263289e+08     113.000000     111.000000        34.000000   \n",
       "50%    2.306202e+08     339.000000     235.000000        62.000000   \n",
       "75%    2.344524e+08     705.000000     344.000000       101.000000   \n",
       "max    2.385139e+08     997.000000     995.000000       123.000000   \n",
       "\n",
       "       JURISDICTION_CODE    X_COORD_CD     Y_COORD_CD       Latitude  \\\n",
       "count      155507.000000  1.555070e+05  155507.000000  155507.000000   \n",
       "mean            0.912486  1.004996e+06  208163.457555      40.737994   \n",
       "std             7.894204  2.152869e+04   29904.384015       0.082086   \n",
       "min             0.000000  9.142140e+05  121312.000000      40.499401   \n",
       "25%             0.000000  9.912230e+05  185908.000000      40.676902   \n",
       "50%             0.000000  1.004222e+06  207067.000000      40.735036   \n",
       "75%             0.000000  1.017119e+06  235804.000000      40.813903   \n",
       "max            97.000000  1.066928e+06  271820.000000      40.912723   \n",
       "\n",
       "           Longitude  \n",
       "count  155507.000000  \n",
       "mean      -73.925113  \n",
       "std         0.077640  \n",
       "min       -74.251844  \n",
       "25%       -73.974837  \n",
       "50%       -73.927979  \n",
       "75%       -73.881512  \n",
       "max       -73.701612  "
      ]
     },
     "execution_count": 4,
     "metadata": {},
     "output_type": "execute_result"
    }
   ],
   "source": [
    "# describing dataset\n",
    "df.describe()"
   ]
  },
  {
   "cell_type": "code",
   "execution_count": 5,
   "id": "95b0132f",
   "metadata": {},
   "outputs": [
    {
     "name": "stdout",
     "output_type": "stream",
     "text": [
      "<class 'pandas.core.frame.DataFrame'>\n",
      "RangeIndex: 155507 entries, 0 to 155506\n",
      "Data columns (total 19 columns):\n",
      " #   Column                    Non-Null Count   Dtype  \n",
      "---  ------                    --------------   -----  \n",
      " 0   ARREST_KEY                155507 non-null  int64  \n",
      " 1   ARREST_DATE               155507 non-null  object \n",
      " 2   PD_CD                     155478 non-null  float64\n",
      " 3   PD_DESC                   155404 non-null  object \n",
      " 4   KY_CD                     155404 non-null  float64\n",
      " 5   OFNS_DESC                 155404 non-null  object \n",
      " 6   LAW_CODE                  155507 non-null  object \n",
      " 7   LAW_CAT_CD                154114 non-null  object \n",
      " 8   ARREST_BORO               155507 non-null  object \n",
      " 9   ARREST_PRECINCT           155507 non-null  int64  \n",
      " 10  JURISDICTION_CODE         155507 non-null  int64  \n",
      " 11  AGE_GROUP                 155507 non-null  object \n",
      " 12  PERP_SEX                  155507 non-null  object \n",
      " 13  PERP_RACE                 155507 non-null  object \n",
      " 14  X_COORD_CD                155507 non-null  int64  \n",
      " 15  Y_COORD_CD                155507 non-null  int64  \n",
      " 16  Latitude                  155507 non-null  float64\n",
      " 17  Longitude                 155507 non-null  float64\n",
      " 18  New Georeferenced Column  155507 non-null  object \n",
      "dtypes: float64(4), int64(5), object(10)\n",
      "memory usage: 22.5+ MB\n"
     ]
    }
   ],
   "source": [
    "# dataset info\n",
    "df.info()"
   ]
  },
  {
   "cell_type": "code",
   "execution_count": 6,
   "id": "7512c00b",
   "metadata": {},
   "outputs": [
    {
     "data": {
      "text/plain": [
       "ARREST_KEY                  155507\n",
       "ARREST_DATE                    365\n",
       "PD_CD                          260\n",
       "PD_DESC                        241\n",
       "KY_CD                           66\n",
       "OFNS_DESC                       63\n",
       "LAW_CODE                      1005\n",
       "LAW_CAT_CD                       4\n",
       "ARREST_BORO                      5\n",
       "ARREST_PRECINCT                 77\n",
       "JURISDICTION_CODE               26\n",
       "AGE_GROUP                        5\n",
       "PERP_SEX                         2\n",
       "PERP_RACE                        7\n",
       "X_COORD_CD                   27466\n",
       "Y_COORD_CD                   29300\n",
       "Latitude                     34210\n",
       "Longitude                    34210\n",
       "New Georeferenced Column     34217\n",
       "dtype: int64"
      ]
     },
     "execution_count": 6,
     "metadata": {},
     "output_type": "execute_result"
    }
   ],
   "source": [
    "# checking number of unique values in columns\n",
    "df.nunique()"
   ]
  },
  {
   "cell_type": "code",
   "execution_count": 7,
   "id": "c5617971",
   "metadata": {},
   "outputs": [
    {
     "data": {
      "text/plain": [
       "(155507, 19)"
      ]
     },
     "execution_count": 7,
     "metadata": {},
     "output_type": "execute_result"
    }
   ],
   "source": [
    "# checking shape of dataset\n",
    "df.shape"
   ]
  },
  {
   "cell_type": "code",
   "execution_count": 8,
   "id": "2757c538",
   "metadata": {},
   "outputs": [
    {
     "data": {
      "image/png": "[encoded data removed]",
      "text/plain": [
       "<Figure size 432x288 with 1 Axes>"
      ]
     },
     "metadata": {
      "needs_background": "light"
     },
     "output_type": "display_data"
    }
   ],
   "source": [
    "# checking null values in dataset\n",
    "df.isnull().sum().sort_values(ascending=True).plot.barh(color = 'sandybrown', edgecolor='k')\n",
    "plt.show()"
   ]
  },
  {
   "cell_type": "markdown",
   "id": "070a91c5",
   "metadata": {},
   "source": [
    "The dataset has 155507 rows 19 columns. Observed inconsistencies are mentioned below."
   ]
  },
  {
   "cell_type": "markdown",
   "id": "6283081d",
   "metadata": {},
   "source": [
    "## Data Inconsistencies"
   ]
  },
  {
   "cell_type": "markdown",
   "id": "4a6e17b7",
   "metadata": {},
   "source": [
    "- Observed that 'LAW_CAT_CD' has 1393 null values (almost negligible since it has over 155k rows)\n",
    "- There are very few null values in 'PD_CD','PD_DESC','KY_CD' and 'OFNS_DESC' as well."
   ]
  },
  {
   "cell_type": "markdown",
   "id": "ac3c0b81",
   "metadata": {},
   "source": [
    "## Data Cleaning"
   ]
  },
  {
   "cell_type": "code",
   "execution_count": 9,
   "id": "b7802615",
   "metadata": {},
   "outputs": [],
   "source": [
    "# converting 'Arrest_Date' to date type\n",
    "df['ARREST_DATE'] = pd.to_datetime(df['ARREST_DATE'])\n",
    "# converting 'JURISDICTION_CODE' to categorical type\n",
    "df['JURISDICTION_CODE'] = df['JURISDICTION_CODE'].astype('object')"
   ]
  },
  {
   "cell_type": "code",
   "execution_count": 10,
   "id": "5920f7fe",
   "metadata": {},
   "outputs": [
    {
     "name": "stdout",
     "output_type": "stream",
     "text": [
      "<class 'pandas.core.frame.DataFrame'>\n",
      "RangeIndex: 155507 entries, 0 to 155506\n",
      "Data columns (total 19 columns):\n",
      " #   Column                    Non-Null Count   Dtype         \n",
      "---  ------                    --------------   -----         \n",
      " 0   ARREST_KEY                155507 non-null  int64         \n",
      " 1   ARREST_DATE               155507 non-null  datetime64[ns]\n",
      " 2   PD_CD                     155478 non-null  float64       \n",
      " 3   PD_DESC                   155404 non-null  object        \n",
      " 4   KY_CD                     155404 non-null  float64       \n",
      " 5   OFNS_DESC                 155404 non-null  object        \n",
      " 6   LAW_CODE                  155507 non-null  object        \n",
      " 7   LAW_CAT_CD                154114 non-null  object        \n",
      " 8   ARREST_BORO               155507 non-null  object        \n",
      " 9   ARREST_PRECINCT           155507 non-null  int64         \n",
      " 10  JURISDICTION_CODE         155507 non-null  object        \n",
      " 11  AGE_GROUP                 155507 non-null  object        \n",
      " 12  PERP_SEX                  155507 non-null  object        \n",
      " 13  PERP_RACE                 155507 non-null  object        \n",
      " 14  X_COORD_CD                155507 non-null  int64         \n",
      " 15  Y_COORD_CD                155507 non-null  int64         \n",
      " 16  Latitude                  155507 non-null  float64       \n",
      " 17  Longitude                 155507 non-null  float64       \n",
      " 18  New Georeferenced Column  155507 non-null  object        \n",
      "dtypes: datetime64[ns](1), float64(4), int64(4), object(10)\n",
      "memory usage: 22.5+ MB\n"
     ]
    }
   ],
   "source": [
    "df.info()"
   ]
  },
  {
   "cell_type": "code",
   "execution_count": 11,
   "id": "a122753b",
   "metadata": {},
   "outputs": [],
   "source": [
    "# dropping location coordinate columns as they don't require in analysis\n",
    "df = df.drop(['X_COORD_CD','Y_COORD_CD','Latitude','Longitude','New Georeferenced Column'],axis=1)\n",
    "# dropping 'Arrest_key' column as it has all unique values\n",
    "df = df.drop(['ARREST_KEY'],axis=1)"
   ]
  },
  {
   "cell_type": "code",
   "execution_count": 12,
   "id": "234b25f3",
   "metadata": {},
   "outputs": [
    {
     "data": {
      "text/plain": [
       "(155507, 13)"
      ]
     },
     "execution_count": 12,
     "metadata": {},
     "output_type": "execute_result"
    }
   ],
   "source": [
    "# Shape of dataset\n",
    "df.shape"
   ]
  },
  {
   "cell_type": "markdown",
   "id": "a34defe6",
   "metadata": {},
   "source": [
    "After dropping above columns, new dataset has 155,507 rows and 13 columns"
   ]
  },
  {
   "cell_type": "markdown",
   "id": "7368932f",
   "metadata": {},
   "source": [
    "## Sanity check to identify duplicates"
   ]
  },
  {
   "cell_type": "code",
   "execution_count": 13,
   "id": "e5b5f954",
   "metadata": {},
   "outputs": [
    {
     "data": {
      "image/png": "[encoded data removed]",
      "text/plain": [
       "<Figure size 432x1080 with 1 Axes>"
      ]
     },
     "metadata": {
      "needs_background": "light"
     },
     "output_type": "display_data"
    }
   ],
   "source": [
    "# checking 'offence description' column for duplicate values\n",
    "df.OFNS_DESC.value_counts().sort_values(ascending=True).plot.barh(figsize=(6,15),color = 'sandybrown', edgecolor='k')\n",
    "plt.show()"
   ]
  },
  {
   "cell_type": "code",
   "execution_count": 14,
   "id": "6bc7c572",
   "metadata": {},
   "outputs": [
    {
     "data": {
      "image/png": "[encoded data removed]",
      "text/plain": [
       "<Figure size 432x288 with 1 Axes>"
      ]
     },
     "metadata": {
      "needs_background": "light"
     },
     "output_type": "display_data"
    }
   ],
   "source": [
    "# Checking level of offence column\n",
    "df.LAW_CAT_CD.value_counts().plot.barh(color = 'sandybrown', edgecolor='k')\n",
    "plt.show()"
   ]
  },
  {
   "cell_type": "code",
   "execution_count": 15,
   "id": "a8ca3d33",
   "metadata": {},
   "outputs": [
    {
     "data": {
      "image/png": "[encoded data removed]",
      "text/plain": [
       "<Figure size 432x288 with 1 Axes>"
      ]
     },
     "metadata": {
      "needs_background": "light"
     },
     "output_type": "display_data"
    }
   ],
   "source": [
    "# Checking perpetrator's age group column\n",
    "df.AGE_GROUP.value_counts().plot.barh(color = 'sandybrown', edgecolor='k')\n",
    "plt.show()"
   ]
  },
  {
   "cell_type": "code",
   "execution_count": 16,
   "id": "f1df74de",
   "metadata": {},
   "outputs": [
    {
     "data": {
      "image/png": "[encoded data removed]",
      "text/plain": [
       "<Figure size 432x288 with 1 Axes>"
      ]
     },
     "metadata": {
      "needs_background": "light"
     },
     "output_type": "display_data"
    }
   ],
   "source": [
    "# Checking perpetrator's sex column\n",
    "df.PERP_SEX.value_counts().plot.barh(color = 'sandybrown', edgecolor='k')\n",
    "plt.show()"
   ]
  },
  {
   "cell_type": "code",
   "execution_count": 17,
   "id": "a7aefc72",
   "metadata": {},
   "outputs": [
    {
     "data": {
      "image/png": "[encoded data removed]",
      "text/plain": [
       "<Figure size 432x288 with 1 Axes>"
      ]
     },
     "metadata": {
      "needs_background": "light"
     },
     "output_type": "display_data"
    }
   ],
   "source": [
    "# Checking perpetrator's race column\n",
    "df.PERP_RACE.value_counts().plot.barh(color = 'sandybrown', edgecolor='k')\n",
    "plt.show()"
   ]
  },
  {
   "cell_type": "markdown",
   "id": "5b381bb5",
   "metadata": {},
   "source": [
    "### Observations"
   ]
  },
  {
   "cell_type": "markdown",
   "id": "b5fd585e",
   "metadata": {},
   "source": [
    "- The top three offenses are 'ASSAULT 3 & RELATED OFFENSES,' 'FELONY ASSAULT,' and 'PETIT LARCENY.'\n",
    "- The highest level of offenses are'misdemeanor' and 'felony.'\n",
    "- People aged 25 to 44 are more likely to engage in criminal activities.\n",
    "- Males are more likely to commit crimes than females.\n",
    "- The 'black' and 'white hispanic' races are more likely to commit crimes according to data."
   ]
  },
  {
   "cell_type": "markdown",
   "id": "a5d05862",
   "metadata": {},
   "source": [
    "## Distribution Plots"
   ]
  },
  {
   "cell_type": "code",
   "execution_count": 18,
   "id": "8caf215e",
   "metadata": {},
   "outputs": [
    {
     "data": {
      "image/png": "[encoded data removed]",
      "text/plain": [
       "<Figure size 1152x576 with 1 Axes>"
      ]
     },
     "metadata": {
      "needs_background": "light"
     },
     "output_type": "display_data"
    }
   ],
   "source": [
    "# Monthly distribution plot\n",
    "sns.countplot(x=df.ARREST_DATE.dt.month, palette=\"pastel\", data=df)\n",
    "plt.gcf().set_size_inches(16,8)\n",
    "plt.title('Monthly Distribution')\n",
    "plt.xlabel('Month')\n",
    "plt.ylabel('Count')\n",
    "plt.show()"
   ]
  },
  {
   "cell_type": "markdown",
   "id": "4bf70019",
   "metadata": {},
   "source": [
    "### Observations"
   ]
  },
  {
   "cell_type": "markdown",
   "id": "0aa83f2f",
   "metadata": {},
   "source": [
    "- 'April' is the month with the fewest arrests, while 'october' has the most.\n",
    "- Arrests have risen from 'April' to 'october,' according to statistics."
   ]
  },
  {
   "cell_type": "code",
   "execution_count": 19,
   "id": "145d1969",
   "metadata": {},
   "outputs": [
    {
     "data": {
      "image/png": "[encoded data removed]",
      "text/plain": [
       "<Figure size 1152x576 with 1 Axes>"
      ]
     },
     "metadata": {
      "needs_background": "light"
     },
     "output_type": "display_data"
    }
   ],
   "source": [
    "# Day distribution plot\n",
    "sns.countplot(x=df.ARREST_DATE.dt.day, palette=\"pastel\", data=df)\n",
    "plt.gcf().set_size_inches(16,8)\n",
    "plt.title('Day Distribution')\n",
    "plt.xlabel('Day')\n",
    "plt.ylabel('Count')\n",
    "plt.show()"
   ]
  },
  {
   "cell_type": "markdown",
   "id": "93601676",
   "metadata": {},
   "source": [
    "### Observations"
   ]
  },
  {
   "cell_type": "markdown",
   "id": "712e41fe",
   "metadata": {},
   "source": [
    "- Up to the 21st of the month, the number of arrests is rather equally distributed.\n",
    "- There is a significant decline in arrests from the 21st of the month to the end of the month."
   ]
  },
  {
   "cell_type": "code",
   "execution_count": 20,
   "id": "283806ca",
   "metadata": {},
   "outputs": [
    {
     "data": {
      "image/png": "[encoded data removed]",
      "text/plain": [
       "<Figure size 720x432 with 1 Axes>"
      ]
     },
     "metadata": {
      "needs_background": "light"
     },
     "output_type": "display_data"
    }
   ],
   "source": [
    "# Gender and Race Distribution\n",
    "sns.catplot(y=\"PERP_SEX\", hue=\"PERP_RACE\", kind=\"count\", palette=\"pastel\", data=df)\n",
    "plt.gcf().set_size_inches(10,6)\n",
    "plt.title('Gender and Race Distribution')\n",
    "plt.xlabel('Race Count')\n",
    "plt.ylabel('Gender')\n",
    "plt.show()"
   ]
  },
  {
   "cell_type": "code",
   "execution_count": 21,
   "id": "ff0cc32e",
   "metadata": {},
   "outputs": [
    {
     "data": {
      "image/png": "[encoded data removed]",
      "text/plain": [
       "<Figure size 720x432 with 1 Axes>"
      ]
     },
     "metadata": {
      "needs_background": "light"
     },
     "output_type": "display_data"
    }
   ],
   "source": [
    "# Gender and Age Distribution\n",
    "sns.catplot(y=\"PERP_SEX\", hue=\"AGE_GROUP\", kind=\"count\", palette=\"pastel\", data=df)\n",
    "plt.gcf().set_size_inches(10,6)\n",
    "plt.title('Gender and Age Group Distribution')\n",
    "plt.xlabel('Age Group Count')\n",
    "plt.ylabel('Gender')\n",
    "plt.show()"
   ]
  },
  {
   "cell_type": "code",
   "execution_count": 22,
   "id": "473036cd",
   "metadata": {},
   "outputs": [
    {
     "data": {
      "image/png": "[encoded data removed]",
      "text/plain": [
       "<Figure size 864x576 with 1 Axes>"
      ]
     },
     "metadata": {
      "needs_background": "light"
     },
     "output_type": "display_data"
    }
   ],
   "source": [
    "# Age and Race Distribution\n",
    "sns.catplot(y=\"AGE_GROUP\", hue=\"PERP_RACE\", kind=\"count\", palette=\"pastel\", data=df)\n",
    "plt.gcf().set_size_inches(12,8)\n",
    "plt.title('Age Group and Race Distribution')\n",
    "plt.xlabel('Race Count')\n",
    "plt.ylabel('Age Group')\n",
    "plt.show()"
   ]
  },
  {
   "cell_type": "markdown",
   "id": "bd9527e9",
   "metadata": {},
   "source": [
    "### Observations"
   ]
  },
  {
   "cell_type": "markdown",
   "id": "32c6a13f",
   "metadata": {},
   "source": [
    "- People of the 'Black' race are more likely to be detained in both genders.\n",
    "- The age group '25-44' is involved in criminal activity in both male and female genders.\n",
    "- 'Black' race individuals commit more crimes than those of other races at every age."
   ]
  },
  {
   "cell_type": "markdown",
   "id": "7d610f6f",
   "metadata": {},
   "source": [
    "### converting ordinal feature to numeric"
   ]
  },
  {
   "cell_type": "code",
   "execution_count": 23,
   "id": "741d55bc",
   "metadata": {},
   "outputs": [],
   "source": [
    "data_mapping = {\n",
    "                '<18':   1,\n",
    "                '18-24': 2,\n",
    "                '25-44': 3,\n",
    "                '45-64': 4,\n",
    "                '65+':   5\n",
    "                }"
   ]
  },
  {
   "cell_type": "code",
   "execution_count": 24,
   "id": "bb7c01ed",
   "metadata": {},
   "outputs": [
    {
     "data": {
      "text/html": [
       "<div>\n",
       "<style scoped>\n",
       "    .dataframe tbody tr th:only-of-type {\n",
       "        vertical-align: middle;\n",
       "    }\n",
       "\n",
       "    .dataframe tbody tr th {\n",
       "        vertical-align: top;\n",
       "    }\n",
       "\n",
       "    .dataframe thead th {\n",
       "        text-align: right;\n",
       "    }\n",
       "</style>\n",
       "<table border=\"1\" class=\"dataframe\">\n",
       "  <thead>\n",
       "    <tr style=\"text-align: right;\">\n",
       "      <th></th>\n",
       "      <th>ARREST_DATE</th>\n",
       "      <th>PD_CD</th>\n",
       "      <th>PD_DESC</th>\n",
       "      <th>KY_CD</th>\n",
       "      <th>OFNS_DESC</th>\n",
       "      <th>LAW_CODE</th>\n",
       "      <th>LAW_CAT_CD</th>\n",
       "      <th>ARREST_BORO</th>\n",
       "      <th>ARREST_PRECINCT</th>\n",
       "      <th>JURISDICTION_CODE</th>\n",
       "      <th>AGE_GROUP</th>\n",
       "      <th>PERP_SEX</th>\n",
       "      <th>PERP_RACE</th>\n",
       "      <th>AGE_GRP_NUM</th>\n",
       "    </tr>\n",
       "  </thead>\n",
       "  <tbody>\n",
       "    <tr>\n",
       "      <th>0</th>\n",
       "      <td>2021-12-18</td>\n",
       "      <td>157.0</td>\n",
       "      <td>RAPE 1</td>\n",
       "      <td>104.0</td>\n",
       "      <td>RAPE</td>\n",
       "      <td>PL 1303501</td>\n",
       "      <td>F</td>\n",
       "      <td>Q</td>\n",
       "      <td>105</td>\n",
       "      <td>97</td>\n",
       "      <td>18-24</td>\n",
       "      <td>M</td>\n",
       "      <td>BLACK</td>\n",
       "      <td>2</td>\n",
       "    </tr>\n",
       "    <tr>\n",
       "      <th>1</th>\n",
       "      <td>2021-11-25</td>\n",
       "      <td>263.0</td>\n",
       "      <td>ARSON 2,3,4</td>\n",
       "      <td>114.0</td>\n",
       "      <td>ARSON</td>\n",
       "      <td>PL 1501500</td>\n",
       "      <td>F</td>\n",
       "      <td>K</td>\n",
       "      <td>69</td>\n",
       "      <td>71</td>\n",
       "      <td>25-44</td>\n",
       "      <td>M</td>\n",
       "      <td>BLACK</td>\n",
       "      <td>3</td>\n",
       "    </tr>\n",
       "    <tr>\n",
       "      <th>2</th>\n",
       "      <td>2021-10-14</td>\n",
       "      <td>594.0</td>\n",
       "      <td>OBSCENITY 1</td>\n",
       "      <td>116.0</td>\n",
       "      <td>SEX CRIMES</td>\n",
       "      <td>PL 2631100</td>\n",
       "      <td>F</td>\n",
       "      <td>K</td>\n",
       "      <td>61</td>\n",
       "      <td>0</td>\n",
       "      <td>25-44</td>\n",
       "      <td>M</td>\n",
       "      <td>WHITE</td>\n",
       "      <td>3</td>\n",
       "    </tr>\n",
       "    <tr>\n",
       "      <th>3</th>\n",
       "      <td>2021-10-11</td>\n",
       "      <td>263.0</td>\n",
       "      <td>ARSON 2,3,4</td>\n",
       "      <td>114.0</td>\n",
       "      <td>ARSON</td>\n",
       "      <td>PL 1501001</td>\n",
       "      <td>F</td>\n",
       "      <td>B</td>\n",
       "      <td>42</td>\n",
       "      <td>71</td>\n",
       "      <td>18-24</td>\n",
       "      <td>M</td>\n",
       "      <td>BLACK</td>\n",
       "      <td>2</td>\n",
       "    </tr>\n",
       "    <tr>\n",
       "      <th>4</th>\n",
       "      <td>2021-09-28</td>\n",
       "      <td>578.0</td>\n",
       "      <td>NaN</td>\n",
       "      <td>NaN</td>\n",
       "      <td>NaN</td>\n",
       "      <td>PL 2223001</td>\n",
       "      <td>M</td>\n",
       "      <td>B</td>\n",
       "      <td>44</td>\n",
       "      <td>0</td>\n",
       "      <td>25-44</td>\n",
       "      <td>M</td>\n",
       "      <td>BLACK</td>\n",
       "      <td>3</td>\n",
       "    </tr>\n",
       "  </tbody>\n",
       "</table>\n",
       "</div>"
      ],
      "text/plain": [
       "  ARREST_DATE  PD_CD      PD_DESC  KY_CD   OFNS_DESC    LAW_CODE LAW_CAT_CD  \\\n",
       "0  2021-12-18  157.0       RAPE 1  104.0        RAPE  PL 1303501          F   \n",
       "1  2021-11-25  263.0  ARSON 2,3,4  114.0       ARSON  PL 1501500          F   \n",
       "2  2021-10-14  594.0  OBSCENITY 1  116.0  SEX CRIMES  PL 2631100          F   \n",
       "3  2021-10-11  263.0  ARSON 2,3,4  114.0       ARSON  PL 1501001          F   \n",
       "4  2021-09-28  578.0          NaN    NaN         NaN  PL 2223001          M   \n",
       "\n",
       "  ARREST_BORO  ARREST_PRECINCT JURISDICTION_CODE AGE_GROUP PERP_SEX PERP_RACE  \\\n",
       "0           Q              105                97     18-24        M     BLACK   \n",
       "1           K               69                71     25-44        M     BLACK   \n",
       "2           K               61                 0     25-44        M     WHITE   \n",
       "3           B               42                71     18-24        M     BLACK   \n",
       "4           B               44                 0     25-44        M     BLACK   \n",
       "\n",
       "   AGE_GRP_NUM  \n",
       "0            2  \n",
       "1            3  \n",
       "2            3  \n",
       "3            2  \n",
       "4            3  "
      ]
     },
     "execution_count": 24,
     "metadata": {},
     "output_type": "execute_result"
    }
   ],
   "source": [
    "df['AGE_GRP_NUM'] = df['AGE_GROUP'].map(data_mapping)\n",
    "df.head()"
   ]
  },
  {
   "cell_type": "markdown",
   "id": "a9c6d08d",
   "metadata": {},
   "source": [
    "- Considered 'AGE_GROUP' as ordinal feature, converted it to numerical feature and considered for analysis"
   ]
  },
  {
   "cell_type": "markdown",
   "id": "34a7f1f5",
   "metadata": {},
   "source": [
    "### Target Variable Count"
   ]
  },
  {
   "cell_type": "code",
   "execution_count": 98,
   "id": "b4fbda99",
   "metadata": {},
   "outputs": [
    {
     "data": {
      "image/png": "[encoded data removed]",
      "text/plain": [
       "<Figure size 432x288 with 1 Axes>"
      ]
     },
     "metadata": {
      "needs_background": "light"
     },
     "output_type": "display_data"
    }
   ],
   "source": [
    "df['PERP_RACE'].value_counts().plot.bar(color = 'm', alpha = 0.5, edgecolor = 'k')\n",
    "plt.title('Distribution of PERP_RACE')\n",
    "plt.show()"
   ]
  },
  {
   "cell_type": "markdown",
   "id": "e490d17d",
   "metadata": {},
   "source": [
    "- target variables are highly imbalanced."
   ]
  },
  {
   "cell_type": "markdown",
   "id": "37aa9e55",
   "metadata": {},
   "source": [
    "# Modelling & Feature Engineering"
   ]
  },
  {
   "cell_type": "code",
   "execution_count": 31,
   "id": "42e78377",
   "metadata": {},
   "outputs": [
    {
     "name": "stdout",
     "output_type": "stream",
     "text": [
      "ColumnTransformer(transformers=[('proc_numeric',\n",
      "                                 Pipeline(steps=[('impute_missing',\n",
      "                                                  SimpleImputer(strategy='median')),\n",
      "                                                 ('standardize_num',\n",
      "                                                  StandardScaler())]),\n",
      "                                 ['PD_CD', 'KY_CD', 'ARREST_PRECINCT',\n",
      "                                  'AGE_GRP_NUM']),\n",
      "                                ('create_dummies',\n",
      "                                 Pipeline(steps=[('impute_missing_cats',\n",
      "                                                  SimpleImputer(strategy='most_frequent')),\n",
      "                                                 ('create_dummies_cats',\n",
      "                                                  OneHotEncoder(drop='first',\n",
      "                                                                handle_unknown='ignore'))]),\n",
      "                                 ['PD_DESC', 'OFNS_DESC', 'LAW_CODE',\n",
      "                                  'LAW_CAT_CD', 'ARREST_BORO',\n",
      "                                  'JURISDICTION_CODE', 'PERP_SEX'])])\n"
     ]
    }
   ],
   "source": [
    "from sklearn.pipeline import Pipeline\n",
    "from sklearn.compose import ColumnTransformer\n",
    "from sklearn.impute import SimpleImputer\n",
    "from sklearn.preprocessing import OneHotEncoder\n",
    "from sklearn.preprocessing import StandardScaler\n",
    "import warnings\n",
    "from sklearn.model_selection import GridSearchCV\n",
    "warnings.filterwarnings(\"ignore\")\n",
    "import numpy as np\n",
    "\n",
    "cat_vars = ['PD_DESC', 'OFNS_DESC', 'LAW_CODE', 'LAW_CAT_CD', 'ARREST_BORO', 'JURISDICTION_CODE', 'PERP_SEX']\n",
    "num_vars = ['PD_CD', 'KY_CD', 'ARREST_PRECINCT', 'AGE_GRP_NUM']\n",
    "\n",
    "num_pipeline = Pipeline([('impute_missing', SimpleImputer(strategy='median')),\n",
    "                           ('standardize_num', StandardScaler())\n",
    "                        ])\n",
    "\n",
    "cat_pipeline = Pipeline([('impute_missing_cats', SimpleImputer(missing_values= np.NaN, strategy='most_frequent')),\n",
    "                         ('create_dummies_cats', OneHotEncoder(handle_unknown='ignore', drop='first'))])\n",
    "\n",
    "processing_pipeline = ColumnTransformer(transformers=[('proc_numeric', num_pipeline, num_vars),\n",
    "                                                      ('create_dummies', cat_pipeline, cat_vars)])\n",
    "\n",
    "print(processing_pipeline)"
   ]
  },
  {
   "cell_type": "markdown",
   "id": "fe3937fb",
   "metadata": {},
   "source": [
    "- Considered 'median' for numeric features and 'most_frequent' for categorical features in simple imputer"
   ]
  },
  {
   "cell_type": "code",
   "execution_count": 32,
   "id": "b87921c5",
   "metadata": {},
   "outputs": [
    {
     "name": "stdout",
     "output_type": "stream",
     "text": [
      "Training data: 124,405\n",
      "Test data: 31,102\n",
      "\n",
      "Features:\n",
      "PD_CD\n",
      "PD_DESC\n",
      "KY_CD\n",
      "OFNS_DESC\n",
      "LAW_CODE\n",
      "LAW_CAT_CD\n",
      "ARREST_BORO\n",
      "ARREST_PRECINCT\n",
      "JURISDICTION_CODE\n",
      "AGE_GROUP\n",
      "PERP_SEX\n",
      "AGE_GRP_NUM\n"
     ]
    }
   ],
   "source": [
    "from sklearn.model_selection import train_test_split\n",
    "features = [x for x in df.columns if (x != 'PERP_RACE')]\n",
    "\n",
    "X = df[features]\n",
    "y = df['PERP_RACE']\n",
    "\n",
    "X_train, X_test, y_train, y_test = train_test_split(X, y, test_size=0.2, random_state=124)\n",
    "\n",
    "print(f'Training data: {X_train.shape[0]:,}')\n",
    "print(f'Test data: {X_test.shape[0]:,}')\n",
    "print('\\nFeatures:')\n",
    "print(*X_train.columns, sep='\\n')"
   ]
  },
  {
   "cell_type": "markdown",
   "id": "52ffd66e",
   "metadata": {},
   "source": [
    "## Logistic Regression Model"
   ]
  },
  {
   "cell_type": "code",
   "execution_count": 86,
   "id": "8242f59a",
   "metadata": {},
   "outputs": [
    {
     "name": "stdout",
     "output_type": "stream",
     "text": [
      "Pipeline(steps=[('processing pipeline',\n",
      "                 ColumnTransformer(transformers=[('proc_numeric',\n",
      "                                                  Pipeline(steps=[('impute_missing',\n",
      "                                                                   SimpleImputer(strategy='median')),\n",
      "                                                                  ('standardize_num',\n",
      "                                                                   StandardScaler())]),\n",
      "                                                  ['PD_CD', 'KY_CD',\n",
      "                                                   'ARREST_PRECINCT',\n",
      "                                                   'AGE_GRP_NUM']),\n",
      "                                                 ('create_dummies',\n",
      "                                                  Pipeline(steps=[('impute_missing_cats',\n",
      "                                                                   SimpleImputer(strategy='most_frequent')),\n",
      "                                                                  ('create_dummies_cats',\n",
      "                                                                   OneHotEncoder(drop='first',\n",
      "                                                                                 handle_unknown='ignore'))]),\n",
      "                                                  ['PD_DESC', 'OFNS_DESC',\n",
      "                                                   'LAW_CODE', 'LAW_CAT_CD',\n",
      "                                                   'ARREST_BORO',\n",
      "                                                   'JURISDICTION_CODE',\n",
      "                                                   'PERP_SEX'])])),\n",
      "                ('model', LogisticRegression(C=50, solver='liblinear'))])\n",
      "\n",
      "\n",
      "Validation score: 37.68%\n",
      "Test score: 37.66%\n"
     ]
    }
   ],
   "source": [
    "from sklearn.linear_model import LogisticRegression\n",
    "\n",
    "lr_p = Pipeline([('processing pipeline', processing_pipeline), \n",
    "              ('model', LogisticRegression(solver = 'liblinear'))\n",
    "             ])\n",
    "\n",
    "params = {'model__C': [0.1, 1, 10, 50, 100]}\n",
    "lr = GridSearchCV(lr_p, param_grid=params, scoring='f1_weighted', cv=10, refit=True)\n",
    "lr = lr.fit(X_train, y_train)\n",
    "\n",
    "print(lr.best_estimator_)\n",
    "print(\"\\n\")\n",
    "print(f'Validation score: {lr.best_score_:.2%}')\n",
    "print(f'Test score: {lr.score(X_test, y_test):.2%}')"
   ]
  },
  {
   "cell_type": "markdown",
   "id": "83940255",
   "metadata": {},
   "source": [
    "- Used 'f1_weighted' for scoring due to high imbalance in the target variable.\n",
    "- from the list of 'C' values the model is picked 50 for best validation score. "
   ]
  },
  {
   "cell_type": "code",
   "execution_count": 87,
   "id": "52a1ade4",
   "metadata": {},
   "outputs": [
    {
     "name": "stdout",
     "output_type": "stream",
     "text": [
      "C: 0.1, lower acc: 36.94%, mean acc: 37.16%, upper acc: 37.37%\n",
      "C: 1, lower acc: 37.39%, mean acc: 37.57%, upper acc: 37.75%\n",
      "C: 10, lower acc: 37.45%, mean acc: 37.66%, upper acc: 37.87%\n",
      "C: 50, lower acc: 37.47%, mean acc: 37.68%, upper acc: 37.88%\n",
      "C: 100, lower acc: 37.47%, mean acc: 37.67%, upper acc: 37.88%\n"
     ]
    }
   ],
   "source": [
    "lg_results = list(zip(lr.cv_results_['params'],\n",
    "                      lr.cv_results_['mean_test_score'],\n",
    "                      lr.cv_results_['std_test_score']\n",
    "                     )\n",
    "                 )\n",
    "\n",
    "for i in lg_results:\n",
    "    x = i[0]['model__C']\n",
    "    print(f'C: {x}, lower acc: {(i[1]-i[2]):.2%}, mean acc: {i[1]:.2%}, upper acc: {(i[1]+i[2]):.2%}')"
   ]
  },
  {
   "cell_type": "markdown",
   "id": "9d054a9d",
   "metadata": {},
   "source": [
    "- from hyper parameter tuning, we can observe mean accuracy is more for 'C' value 50.\n",
    "- Performing secondary search with 'C' values [40,50,60]"
   ]
  },
  {
   "cell_type": "code",
   "execution_count": 54,
   "id": "c3aff5ca",
   "metadata": {},
   "outputs": [
    {
     "name": "stdout",
     "output_type": "stream",
     "text": [
      "Pipeline(steps=[('processing pipeline',\n",
      "                 ColumnTransformer(transformers=[('proc_numeric',\n",
      "                                                  Pipeline(steps=[('impute_missing',\n",
      "                                                                   SimpleImputer(strategy='median')),\n",
      "                                                                  ('standardize_num',\n",
      "                                                                   StandardScaler())]),\n",
      "                                                  ['PD_CD', 'KY_CD',\n",
      "                                                   'ARREST_PRECINCT',\n",
      "                                                   'AGE_GRP_NUM']),\n",
      "                                                 ('create_dummies',\n",
      "                                                  Pipeline(steps=[('impute_missing_cats',\n",
      "                                                                   SimpleImputer(strategy='most_frequent')),\n",
      "                                                                  ('create_dummies_cats',\n",
      "                                                                   OneHotEncoder(drop='first',\n",
      "                                                                                 handle_unknown='ignore'))]),\n",
      "                                                  ['PD_DESC', 'OFNS_DESC',\n",
      "                                                   'LAW_CODE', 'LAW_CAT_CD',\n",
      "                                                   'ARREST_BORO',\n",
      "                                                   'JURISDICTION_CODE',\n",
      "                                                   'PERP_SEX'])])),\n",
      "                ('model', LogisticRegression(C=50, solver='liblinear'))])\n",
      "\n",
      "\n",
      "Validation score: 37.68%\n",
      "Test score: 37.66%\n"
     ]
    }
   ],
   "source": [
    "from sklearn.linear_model import LogisticRegression\n",
    "\n",
    "lr_p = Pipeline([('processing pipeline', processing_pipeline), \n",
    "              ('model', LogisticRegression(solver = 'liblinear'))\n",
    "             ])\n",
    "\n",
    "params = {'model__C': [40,50,60]}\n",
    "lr = GridSearchCV(lr_p, param_grid=params, scoring='f1_weighted', cv=10, refit=True)\n",
    "lr = lr.fit(X_train, y_train)\n",
    "\n",
    "print(lr.best_estimator_)\n",
    "print(\"\\n\")\n",
    "print(f'Validation score: {lr.best_score_:.2%}')\n",
    "print(f'Test score: {lr.score(X_test, y_test):.2%}')"
   ]
  },
  {
   "cell_type": "markdown",
   "id": "0a3d386f",
   "metadata": {},
   "source": [
    "- from secondary search model again picked 'C' value as 50.\n",
    "- again double checking hyper parameter tuning for 'C' values."
   ]
  },
  {
   "cell_type": "code",
   "execution_count": 83,
   "id": "627e81f7",
   "metadata": {},
   "outputs": [
    {
     "name": "stdout",
     "output_type": "stream",
     "text": [
      "C: 40, lower acc: 37.47%, mean acc: 37.67%, upper acc: 37.88%\n",
      "C: 50, lower acc: 37.47%, mean acc: 37.68%, upper acc: 37.88%\n",
      "C: 60, lower acc: 37.47%, mean acc: 37.68%, upper acc: 37.88%\n"
     ]
    }
   ],
   "source": [
    "lg_results = list(zip(lr.cv_results_['params'],\n",
    "                      lr.cv_results_['mean_test_score'],\n",
    "                      lr.cv_results_['std_test_score']\n",
    "                     )\n",
    "                 )\n",
    "\n",
    "for i in lg_results:\n",
    "    x = i[0]['model__C']\n",
    "    print(f'C: {x}, lower acc: {(i[1]-i[2]):.2%}, mean acc: {i[1]:.2%}, upper acc: {(i[1]+i[2]):.2%}')"
   ]
  },
  {
   "cell_type": "markdown",
   "id": "408e08b7",
   "metadata": {},
   "source": [
    "- mean accuracy for 'C' values 50 & 60 are the same. since model considered 'C' value as 50, I have taken the same value and developed the classification report."
   ]
  },
  {
   "cell_type": "code",
   "execution_count": 84,
   "id": "f9e34b7a",
   "metadata": {},
   "outputs": [
    {
     "name": "stdout",
     "output_type": "stream",
     "text": [
      "Testing Scores:: Classification Report:\n",
      "\n",
      "                                precision    recall  f1-score   support\n",
      "\n",
      "AMERICAN INDIAN/ALASKAN NATIVE       0.00      0.00      0.00        89\n",
      "      ASIAN / PACIFIC ISLANDER       0.50      0.04      0.07      1770\n",
      "                         BLACK       0.51      0.96      0.67     15352\n",
      "                BLACK HISPANIC       0.13      0.00      0.00      2655\n",
      "                       UNKNOWN       0.00      0.00      0.00       121\n",
      "                         WHITE       0.44      0.06      0.11      3480\n",
      "                WHITE HISPANIC       0.38      0.08      0.13      7635\n",
      "\n",
      "                      accuracy                           0.50     31102\n",
      "                     macro avg       0.28      0.16      0.14     31102\n",
      "                  weighted avg       0.44      0.50      0.38     31102\n",
      "\n"
     ]
    }
   ],
   "source": [
    "from sklearn.metrics import classification_report\n",
    "\n",
    "lr_model = Pipeline([('processing_pipeline', processing_pipeline),\n",
    "                           ('model', LogisticRegression(C=50, solver='liblinear'))])\n",
    "lr_model.fit(X_train,y_train)\n",
    "logistic_predict = lr_model.predict(X_test)\n",
    "print(\"Testing Scores:: Classification Report:\\n\")\n",
    "print(classification_report(y_test, logistic_predict))"
   ]
  },
  {
   "cell_type": "markdown",
   "id": "11a982f1",
   "metadata": {},
   "source": [
    "- Got accuracy of 50% and recall of 50% for 'weighted average' in Testing report. Let's see the training scores"
   ]
  },
  {
   "cell_type": "code",
   "execution_count": 104,
   "id": "045c3b3a",
   "metadata": {},
   "outputs": [
    {
     "name": "stdout",
     "output_type": "stream",
     "text": [
      "Training Scores for LR Model: Classification Report:\n",
      "\n",
      "                                precision    recall  f1-score   support\n",
      "\n",
      "AMERICAN INDIAN/ALASKAN NATIVE       0.00      0.00      0.00       354\n",
      "      ASIAN / PACIFIC ISLANDER       0.55      0.04      0.07      6823\n",
      "                         BLACK       0.52      0.97      0.67     61781\n",
      "                BLACK HISPANIC       0.58      0.01      0.02     10921\n",
      "                       UNKNOWN       1.00      0.02      0.03       466\n",
      "                         WHITE       0.47      0.07      0.12     13583\n",
      "                WHITE HISPANIC       0.42      0.08      0.13     30477\n",
      "\n",
      "                      accuracy                           0.51    124405\n",
      "                     macro avg       0.50      0.17      0.15    124405\n",
      "                  weighted avg       0.49      0.51      0.39    124405\n",
      "\n"
     ]
    }
   ],
   "source": [
    "lr_trainPre = lr_model.predict(X_train)\n",
    "print(\"Training Scores for LR Model: Classification Report:\\n\")\n",
    "print(classification_report(y_train, lr_trainPre))"
   ]
  },
  {
   "cell_type": "markdown",
   "id": "23d284e0",
   "metadata": {},
   "source": [
    "- Got accuracy of 51% and recall of '51%' for training data. since the results are moderate let's see the roc curve"
   ]
  },
  {
   "cell_type": "code",
   "execution_count": 74,
   "id": "5afa25b8",
   "metadata": {},
   "outputs": [
    {
     "data": {
      "image/png": "[encoded data removed]",
      "text/plain": [
       "<Figure size 432x288 with 1 Axes>"
      ]
     },
     "metadata": {
      "needs_background": "light"
     },
     "output_type": "display_data"
    },
    {
     "name": "stdout",
     "output_type": "stream",
     "text": [
      "\u001b[1mThe area of curve is 0.6676475251113594\n"
     ]
    }
   ],
   "source": [
    "from sklearn.metrics import roc_curve\n",
    "\n",
    "y_testprobability = lr_model.fit(X_train,y_train).predict_proba(X_test)\n",
    "y_trainprobability = lr_model.fit(X_train,y_train).predict_proba(X_train)\n",
    "\n",
    "def roc(y, prob):\n",
    "    fpr, tpr, _ = roc_curve(y, prob, pos_label = 'WHITE')\n",
    "    return fpr, tpr\n",
    "\n",
    "fpr_test, tpr_test = roc(y_test, y_testprobability[:,1])\n",
    "fpr_train, tpr_train = roc(y_train, y_trainprobability[:,1])\n",
    "auc = roc_auc_score(y_test, y_testprobability, multi_class = 'ovr')\n",
    "\n",
    "plt.plot(fpr_test, tpr_test,'-r')\n",
    "plt.plot(fpr_train, tpr_train,'-b')\n",
    "plt.title('ROC Curve for Logistics Regression')\n",
    "plt.xlabel('FP_Rate')\n",
    "plt.ylabel('TP_Rate')\n",
    "plt.legend(['Test','Training'])\n",
    "plt.plot([0, 1], [0, 1], color='navy', linestyle='--')\n",
    "plt.show()\n",
    "print(f'\\033[1mThe area of curve is {auc}')"
   ]
  },
  {
   "cell_type": "markdown",
   "id": "8d614f82",
   "metadata": {},
   "source": [
    "##### Overall observations on LR Model:\n",
    "- Highest recall and f1-score is observed for 'BLACK' category.\n",
    "- Highest precision is observed for 'UNKNOWN' category.\n",
    "- The ROC curve has AUC of 0.67"
   ]
  },
  {
   "cell_type": "markdown",
   "id": "5b956069",
   "metadata": {},
   "source": [
    "## Decision Tree Model"
   ]
  },
  {
   "cell_type": "code",
   "execution_count": 59,
   "id": "ad5f9b79",
   "metadata": {},
   "outputs": [
    {
     "name": "stdout",
     "output_type": "stream",
     "text": [
      "Pipeline(steps=[('processing_pipeline',\n",
      "                 ColumnTransformer(transformers=[('proc_numeric',\n",
      "                                                  Pipeline(steps=[('impute_missing',\n",
      "                                                                   SimpleImputer(strategy='median')),\n",
      "                                                                  ('standardize_num',\n",
      "                                                                   StandardScaler())]),\n",
      "                                                  ['PD_CD', 'KY_CD',\n",
      "                                                   'ARREST_PRECINCT',\n",
      "                                                   'AGE_GRP_NUM']),\n",
      "                                                 ('create_dummies',\n",
      "                                                  Pipeline(steps=[('impute_missing_cats',\n",
      "                                                                   SimpleImputer(strategy='most_frequent')),\n",
      "                                                                  ('create_dummies_cats',\n",
      "                                                                   OneHotEncoder(drop='first',\n",
      "                                                                                 handle_unknown='ignore'))]),\n",
      "                                                  ['PD_DESC', 'OFNS_DESC',\n",
      "                                                   'LAW_CODE', 'LAW_CAT_CD',\n",
      "                                                   'ARREST_BORO',\n",
      "                                                   'JURISDICTION_CODE',\n",
      "                                                   'PERP_SEX'])])),\n",
      "                ('model',\n",
      "                 DecisionTreeClassifier(max_depth=80,\n",
      "                                        min_samples_split=0.001))])\n",
      "\n",
      "\n",
      "Validation score: 50.84%\n",
      "Test score: 50.97%\n"
     ]
    }
   ],
   "source": [
    "from sklearn.tree import DecisionTreeClassifier\n",
    "dt_p = Pipeline([('processing_pipeline', processing_pipeline), \n",
    "              ('model', DecisionTreeClassifier())\n",
    "             ])\n",
    "\n",
    "params = {'model__max_depth': [50,80,100], 'model__min_samples_split' : [0.001, 0.01, 0.05]}\n",
    "\n",
    "dt = GridSearchCV(dt_p, param_grid=params, scoring='f1_weighted', cv=10, refit=True)\n",
    "dt = dt.fit(X_train, y_train)\n",
    "\n",
    "print(dt.best_estimator_)\n",
    "print(\"\\n\")\n",
    "print(f'Validation score: {dt.best_score_:.2%}')\n",
    "print(f'Test score: {dt.score(X_test, y_test):.2%}')"
   ]
  },
  {
   "cell_type": "markdown",
   "id": "46c30a3a",
   "metadata": {},
   "source": [
    "- Compared to Logistics Regression model, this model has better validation score.\n",
    "- Final outcomes of the model are max_depth as 80 and min_samples_split as 0.001."
   ]
  },
  {
   "cell_type": "code",
   "execution_count": 60,
   "id": "c0fa661e",
   "metadata": {},
   "outputs": [
    {
     "name": "stdout",
     "output_type": "stream",
     "text": [
      "Depth/Min Split: 50, 0.10%: 50.34% < 50.84% > 51.33%\n",
      "Depth/Min Split: 50, 1.00%: 48.27% < 48.72% > 49.18%\n",
      "Depth/Min Split: 50, 5.00%: 45.37% < 45.69% > 46.02%\n",
      "Depth/Min Split: 80, 0.10%: 50.38% < 50.84% > 51.29%\n",
      "Depth/Min Split: 80, 1.00%: 48.26% < 48.72% > 49.18%\n",
      "Depth/Min Split: 80, 5.00%: 45.37% < 45.69% > 46.02%\n",
      "Depth/Min Split: 100, 0.10%: 50.35% < 50.83% > 51.31%\n",
      "Depth/Min Split: 100, 1.00%: 48.26% < 48.72% > 49.17%\n",
      "Depth/Min Split: 100, 5.00%: 45.37% < 45.69% > 46.02%\n"
     ]
    }
   ],
   "source": [
    "dt_results = list(zip(dt.cv_results_['params'],\n",
    "                      dt.cv_results_['mean_test_score'],\n",
    "                      dt.cv_results_['std_test_score']\n",
    "                     )\n",
    "                 )\n",
    "\n",
    "for i in dt_results:\n",
    "    x = i[0]['model__max_depth']\n",
    "    y = i[0]['model__min_samples_split']\n",
    "    print(f'Depth/Min Split: {x}, {y:.2%}: {(i[1]-i[2]):.2%} < {i[1]:.2%} > {(i[1]+i[2]):.2%}')"
   ]
  },
  {
   "cell_type": "markdown",
   "id": "fb23b8ff",
   "metadata": {},
   "source": [
    "- From the above hyper parameter tuning, we can see model works best for max_depth of 80 and min_samples_split of 0.001\n",
    "- doing secondary search with considering max_depth as [60,70,80,90] and min_samples_split values as [0.001,0.002,0.003]"
   ]
  },
  {
   "cell_type": "code",
   "execution_count": 61,
   "id": "e3ebe953",
   "metadata": {},
   "outputs": [
    {
     "name": "stdout",
     "output_type": "stream",
     "text": [
      "Pipeline(steps=[('processing pipeline',\n",
      "                 ColumnTransformer(transformers=[('proc_numeric',\n",
      "                                                  Pipeline(steps=[('impute_missing',\n",
      "                                                                   SimpleImputer(strategy='median')),\n",
      "                                                                  ('standardize_num',\n",
      "                                                                   StandardScaler())]),\n",
      "                                                  ['PD_CD', 'KY_CD',\n",
      "                                                   'ARREST_PRECINCT',\n",
      "                                                   'AGE_GRP_NUM']),\n",
      "                                                 ('create_dummies',\n",
      "                                                  Pipeline(steps=[('impute_missing_cats',\n",
      "                                                                   SimpleImputer(strategy='most_frequent')),\n",
      "                                                                  ('create_dummies_cats',\n",
      "                                                                   OneHotEncoder(drop='first',\n",
      "                                                                                 handle_unknown='ignore'))]),\n",
      "                                                  ['PD_DESC', 'OFNS_DESC',\n",
      "                                                   'LAW_CODE', 'LAW_CAT_CD',\n",
      "                                                   'ARREST_BORO',\n",
      "                                                   'JURISDICTION_CODE',\n",
      "                                                   'PERP_SEX'])])),\n",
      "                ('model',\n",
      "                 DecisionTreeClassifier(max_depth=80,\n",
      "                                        min_samples_split=0.001))])\n",
      "\n",
      "\n",
      "Validation score: 50.85%\n",
      "Test score: 50.97%\n"
     ]
    }
   ],
   "source": [
    "from sklearn.tree import DecisionTreeClassifier\n",
    "dt_p = Pipeline([('processing pipeline', processing_pipeline), \n",
    "              ('model', DecisionTreeClassifier())\n",
    "             ])\n",
    "\n",
    "params = {'model__max_depth': [60,70,80,90], 'model__min_samples_split' : [0.001, 0.002, 0.003]}\n",
    "\n",
    "dt = GridSearchCV(dt_p, param_grid=params, scoring='f1_weighted', cv=10, refit=True)\n",
    "dt = dt.fit(X_train, y_train)\n",
    "\n",
    "print(dt.best_estimator_)\n",
    "print(\"\\n\")\n",
    "print(f'Validation score: {dt.best_score_:.2%}')\n",
    "print(f'Test score: {dt.score(X_test, y_test):.2%}')"
   ]
  },
  {
   "cell_type": "markdown",
   "id": "4704e7b3",
   "metadata": {},
   "source": [
    "- there is no change in validation score. model picked same values for 'max_depth' and 'min_samples_split'.\n",
    "- double checking the new values with hyper parameter tuning."
   ]
  },
  {
   "cell_type": "code",
   "execution_count": 63,
   "id": "9eabfd6b",
   "metadata": {},
   "outputs": [
    {
     "name": "stdout",
     "output_type": "stream",
     "text": [
      "Depth/Min Split: 60, 0.10%: 50.38% < 50.84% > 51.31%\n",
      "Depth/Min Split: 60, 0.20%: 50.00% < 50.54% > 51.09%\n",
      "Depth/Min Split: 60, 0.30%: 49.91% < 50.43% > 50.95%\n",
      "Depth/Min Split: 70, 0.10%: 50.35% < 50.84% > 51.33%\n",
      "Depth/Min Split: 70, 0.20%: 50.02% < 50.56% > 51.10%\n",
      "Depth/Min Split: 70, 0.30%: 49.90% < 50.42% > 50.94%\n",
      "Depth/Min Split: 80, 0.10%: 50.38% < 50.85% > 51.32%\n",
      "Depth/Min Split: 80, 0.20%: 50.03% < 50.57% > 51.12%\n",
      "Depth/Min Split: 80, 0.30%: 49.91% < 50.42% > 50.94%\n",
      "Depth/Min Split: 90, 0.10%: 50.35% < 50.82% > 51.30%\n",
      "Depth/Min Split: 90, 0.20%: 50.02% < 50.55% > 51.08%\n",
      "Depth/Min Split: 90, 0.30%: 49.92% < 50.43% > 50.94%\n"
     ]
    }
   ],
   "source": [
    "dt_results = list(zip(dt.cv_results_['params'],\n",
    "                      dt.cv_results_['mean_test_score'],\n",
    "                      dt.cv_results_['std_test_score']\n",
    "                     )\n",
    "                 )\n",
    "\n",
    "for i in dt_results:\n",
    "    x = i[0]['model__max_depth']\n",
    "    y = i[0]['model__min_samples_split']\n",
    "    print(f'Depth/Min Split: {x}, {y:.2%}: {(i[1]-i[2]):.2%} < {i[1]:.2%} > {(i[1]+i[2]):.2%}')"
   ]
  },
  {
   "cell_type": "markdown",
   "id": "ea005453",
   "metadata": {},
   "source": [
    "- mean accuaracy is for 80, 0.01 is high for the model. So considered same values and developed classification report"
   ]
  },
  {
   "cell_type": "code",
   "execution_count": 64,
   "id": "0ea115b8",
   "metadata": {},
   "outputs": [],
   "source": [
    "dt_model = Pipeline([('processing_pipeline', processing_pipeline),\n",
    "                           ('model', DecisionTreeClassifier(max_depth=80, min_samples_split=0.001))])"
   ]
  },
  {
   "cell_type": "code",
   "execution_count": 65,
   "id": "b9ff8525",
   "metadata": {},
   "outputs": [
    {
     "name": "stdout",
     "output_type": "stream",
     "text": [
      "Testing Scores:: Classification Report:\n",
      "\n",
      "                                precision    recall  f1-score   support\n",
      "\n",
      "AMERICAN INDIAN/ALASKAN NATIVE       0.00      0.00      0.00        89\n",
      "      ASIAN / PACIFIC ISLANDER       0.41      0.22      0.28      1770\n",
      "                         BLACK       0.61      0.84      0.70     15352\n",
      "                BLACK HISPANIC       0.29      0.07      0.11      2655\n",
      "                       UNKNOWN       0.09      0.01      0.02       121\n",
      "                         WHITE       0.45      0.31      0.36      3480\n",
      "                WHITE HISPANIC       0.44      0.35      0.39      7635\n",
      "\n",
      "                      accuracy                           0.55     31102\n",
      "                     macro avg       0.33      0.26      0.27     31102\n",
      "                  weighted avg       0.51      0.55      0.51     31102\n",
      "\n"
     ]
    }
   ],
   "source": [
    "dt_model.fit(X_train,y_train)\n",
    "decision_predict = dt_model.predict(X_test)\n",
    "print(\"Testing Scores:: Classification Report:\\n\")\n",
    "print(classification_report(y_test, decision_predict))"
   ]
  },
  {
   "cell_type": "markdown",
   "id": "6943e126",
   "metadata": {},
   "source": [
    "- results are much better than logistic regression model. we got accuracy of 55% and recall of 55%. Let's see the training scores"
   ]
  },
  {
   "cell_type": "code",
   "execution_count": 105,
   "id": "559c11bd",
   "metadata": {},
   "outputs": [
    {
     "name": "stdout",
     "output_type": "stream",
     "text": [
      "Training Scores for DT Model: Classification Report:\n",
      "\n",
      "                                precision    recall  f1-score   support\n",
      "\n",
      "AMERICAN INDIAN/ALASKAN NATIVE       0.53      0.07      0.12       354\n",
      "      ASIAN / PACIFIC ISLANDER       0.51      0.29      0.37      6823\n",
      "                         BLACK       0.64      0.88      0.74     61781\n",
      "                BLACK HISPANIC       0.57      0.13      0.22     10921\n",
      "                       UNKNOWN       0.84      0.09      0.16       466\n",
      "                         WHITE       0.53      0.37      0.43     13583\n",
      "                WHITE HISPANIC       0.53      0.41      0.46     30477\n",
      "\n",
      "                      accuracy                           0.60    124405\n",
      "                     macro avg       0.59      0.32      0.36    124405\n",
      "                  weighted avg       0.59      0.60      0.57    124405\n",
      "\n"
     ]
    }
   ],
   "source": [
    "dt_trainPre = dt_model.predict(X_train)\n",
    "print(\"Training Scores for DT Model: Classification Report:\\n\")\n",
    "print(classification_report(y_train, dt_trainPre))"
   ]
  },
  {
   "cell_type": "markdown",
   "id": "4ebfea37",
   "metadata": {},
   "source": [
    "- Training score accuracy is at 60% which is 9% more than logistic regression model. let's plot the roc curve."
   ]
  },
  {
   "cell_type": "code",
   "execution_count": 77,
   "id": "37da1640",
   "metadata": {},
   "outputs": [
    {
     "data": {
      "image/png": "[encoded data removed]",
      "text/plain": [
       "<Figure size 432x288 with 1 Axes>"
      ]
     },
     "metadata": {
      "needs_background": "light"
     },
     "output_type": "display_data"
    },
    {
     "name": "stdout",
     "output_type": "stream",
     "text": [
      "\u001b[1mThe area of curve is 0.682824935906483\n"
     ]
    }
   ],
   "source": [
    "from sklearn.metrics import roc_auc_score\n",
    "y_testprobability = dt_model.fit(X_train,y_train).predict_proba(X_test)\n",
    "y_trainprobability = dt_model.fit(X_train,y_train).predict_proba(X_train)\n",
    "\n",
    "fpr_test, tpr_test = roc(y_test, y_testprobability[:,1])\n",
    "fpr_train, tpr_train = roc(y_train, y_trainprobability[:,1])\n",
    "auc = roc_auc_score(y_test, y_testprobability, multi_class = 'ovr')\n",
    "\n",
    "plt.plot(fpr_test, tpr_test,'-r')\n",
    "plt.plot(fpr_train, tpr_train,'-b')\n",
    "plt.title('ROC Curve for Decision Tree Model')\n",
    "plt.xlabel('FP_Rate')\n",
    "plt.ylabel('TP_Rate')\n",
    "plt.legend(['Test','Training'])\n",
    "plt.plot([0, 1], [0, 1], color='navy', linestyle='--')\n",
    "plt.show()\n",
    "print(f'\\033[1mThe area of curve is {auc}')"
   ]
  },
  {
   "cell_type": "markdown",
   "id": "d5bce9cf",
   "metadata": {},
   "source": [
    "##### Overall observations on DT Model:\n",
    "- Highest recall and f1-score is observed for 'BLACK' category.\n",
    "- Highest precision is observed for 'UNKNOWN' category.\n",
    "- The ROC curve has AUC of 0.68 which is 0.01 greater than LR model"
   ]
  },
  {
   "cell_type": "markdown",
   "id": "534cc760",
   "metadata": {},
   "source": [
    "## KNeighborsClassifier Model"
   ]
  },
  {
   "cell_type": "code",
   "execution_count": 68,
   "id": "56392b8d",
   "metadata": {},
   "outputs": [
    {
     "name": "stdout",
     "output_type": "stream",
     "text": [
      "Pipeline(steps=[('processing_pipeline',\n",
      "                 ColumnTransformer(transformers=[('proc_numeric',\n",
      "                                                  Pipeline(steps=[('impute_missing',\n",
      "                                                                   SimpleImputer(strategy='median')),\n",
      "                                                                  ('standardize_num',\n",
      "                                                                   StandardScaler())]),\n",
      "                                                  ['PD_CD', 'KY_CD',\n",
      "                                                   'ARREST_PRECINCT',\n",
      "                                                   'AGE_GRP_NUM']),\n",
      "                                                 ('create_dummies',\n",
      "                                                  Pipeline(steps=[('impute_missing_cats',\n",
      "                                                                   SimpleImputer(strategy='most_frequent')),\n",
      "                                                                  ('create_dummies_cats',\n",
      "                                                                   OneHotEncoder(drop='first',\n",
      "                                                                                 handle_unknown='ignore'))]),\n",
      "                                                  ['PD_DESC', 'OFNS_DESC',\n",
      "                                                   'LAW_CODE', 'LAW_CAT_CD',\n",
      "                                                   'ARREST_BORO',\n",
      "                                                   'JURISDICTION_CODE',\n",
      "                                                   'PERP_SEX'])])),\n",
      "                ('knn_classifier', KNeighborsClassifier(n_neighbors=10))])\n",
      "\n",
      "\n",
      "Validation score: 47.46%\n",
      "Test score: 47.82%\n"
     ]
    }
   ],
   "source": [
    "from sklearn.neighbors import KNeighborsClassifier\n",
    "knn_p = Pipeline([('processing_pipeline', processing_pipeline),\n",
    "                  ('knn_classifier',KNeighborsClassifier())])\n",
    "params = {'knn_classifier__n_neighbors':[1,5,10]}\n",
    "knn = GridSearchCV(estimator=knn_p, param_grid=params, scoring='f1_weighted', refit=True, cv=5)\n",
    "knn = knn.fit(X_train, y_train)\n",
    "print(knn.best_estimator_)\n",
    "print(\"\\n\")\n",
    "print(f'Validation score: {knn.best_score_:.2%}')\n",
    "print(f'Test score: {knn.score(X_test, y_test):.2%}')"
   ]
  },
  {
   "cell_type": "markdown",
   "id": "6e9faf83",
   "metadata": {},
   "source": [
    "- KNN model has better validation score than logistic regression and slightly lower than dt model.\n",
    "- Final outcomes of the model is n_neighbors is 10."
   ]
  },
  {
   "cell_type": "code",
   "execution_count": 79,
   "id": "94a6c5ec",
   "metadata": {},
   "outputs": [
    {
     "name": "stdout",
     "output_type": "stream",
     "text": [
      "neighbors: 1, 43.98% < 44.27% > 44.55%\n",
      "neighbors: 5, 47.11% < 47.29% > 47.47%\n",
      "neighbors: 10, 47.32% < 47.46% > 47.60%\n"
     ]
    }
   ],
   "source": [
    "knn_results = list(zip(knn.cv_results_['params'],\n",
    "                      knn.cv_results_['mean_test_score'],\n",
    "                      knn.cv_results_['std_test_score']\n",
    "                     )\n",
    "                 )\n",
    "\n",
    "for i in knn_results:\n",
    "    x = i[0]['knn_classifier__n_neighbors']\n",
    "    print(f'neighbors: {x}, {(i[1]-i[2]):.2%} < {i[1]:.2%} > {(i[1]+i[2]):.2%}')"
   ]
  },
  {
   "cell_type": "markdown",
   "id": "f2b56493",
   "metadata": {},
   "source": [
    "- from the above hyperparameter tuning, we can see mean accuracy is more for n_neighbours 10.\n",
    "- doing secondary search with n_neighbours as [10,20,50]"
   ]
  },
  {
   "cell_type": "code",
   "execution_count": 80,
   "id": "ac0e74d6",
   "metadata": {},
   "outputs": [
    {
     "name": "stdout",
     "output_type": "stream",
     "text": [
      "Pipeline(steps=[('processing_pipeline',\n",
      "                 ColumnTransformer(transformers=[('proc_numeric',\n",
      "                                                  Pipeline(steps=[('impute_missing',\n",
      "                                                                   SimpleImputer(strategy='median')),\n",
      "                                                                  ('standardize_num',\n",
      "                                                                   StandardScaler())]),\n",
      "                                                  ['PD_CD', 'KY_CD',\n",
      "                                                   'ARREST_PRECINCT',\n",
      "                                                   'AGE_GRP_NUM']),\n",
      "                                                 ('create_dummies',\n",
      "                                                  Pipeline(steps=[('impute_missing_cats',\n",
      "                                                                   SimpleImputer(strategy='most_frequent')),\n",
      "                                                                  ('create_dummies_cats',\n",
      "                                                                   OneHotEncoder(drop='first',\n",
      "                                                                                 handle_unknown='ignore'))]),\n",
      "                                                  ['PD_DESC', 'OFNS_DESC',\n",
      "                                                   'LAW_CODE', 'LAW_CAT_CD',\n",
      "                                                   'ARREST_BORO',\n",
      "                                                   'JURISDICTION_CODE',\n",
      "                                                   'PERP_SEX'])])),\n",
      "                ('knn_classifier', KNeighborsClassifier(n_neighbors=10))])\n",
      "\n",
      "\n",
      "Validation score: 47.46%\n",
      "Test score: 47.82%\n"
     ]
    }
   ],
   "source": [
    "knn_p = Pipeline([('processing_pipeline', processing_pipeline),\n",
    "                  ('knn_classifier',KNeighborsClassifier())])\n",
    "params = {'knn_classifier__n_neighbors':[10, 20, 50]}\n",
    "knn = GridSearchCV(estimator=knn_p, param_grid=params, scoring='f1_weighted', refit=True, cv=5)\n",
    "knn = knn.fit(X_train, y_train)\n",
    "print(knn.best_estimator_)\n",
    "print(\"\\n\")\n",
    "print(f'Validation score: {knn.best_score_:.2%}')\n",
    "print(f'Test score: {knn.score(X_test, y_test):.2%}')"
   ]
  },
  {
   "cell_type": "markdown",
   "id": "d18c1c1f",
   "metadata": {},
   "source": [
    "- There is no difference in validation score. model picked same values for best output.\n",
    "- double checking with hyperparameter tuning."
   ]
  },
  {
   "cell_type": "code",
   "execution_count": 81,
   "id": "48b3522d",
   "metadata": {},
   "outputs": [
    {
     "name": "stdout",
     "output_type": "stream",
     "text": [
      "neighbors: 10, 47.32% < 47.46% > 47.60%\n",
      "neighbors: 20, 46.27% < 46.52% > 46.76%\n",
      "neighbors: 50, 43.86% < 44.10% > 44.33%\n"
     ]
    }
   ],
   "source": [
    "knn_results = list(zip(knn.cv_results_['params'],\n",
    "                      knn.cv_results_['mean_test_score'],\n",
    "                      knn.cv_results_['std_test_score']\n",
    "                     )\n",
    "                 )\n",
    "\n",
    "for i in knn_results:\n",
    "    x = i[0]['knn_classifier__n_neighbors']\n",
    "    print(f'neighbors: {x}, {(i[1]-i[2]):.2%} < {i[1]:.2%} > {(i[1]+i[2]):.2%}')"
   ]
  },
  {
   "cell_type": "markdown",
   "id": "df60a3f0",
   "metadata": {},
   "source": [
    "- we can observe n_neighbours 10 has high mean acuracy than other two parameters. considering the same values and implementing the classification report."
   ]
  },
  {
   "cell_type": "code",
   "execution_count": 69,
   "id": "6ab4b3d2",
   "metadata": {},
   "outputs": [
    {
     "name": "stdout",
     "output_type": "stream",
     "text": [
      "Testing Scores:: Classification Report:\n",
      "\n",
      "                                precision    recall  f1-score   support\n",
      "\n",
      "AMERICAN INDIAN/ALASKAN NATIVE       0.00      0.00      0.00        89\n",
      "      ASIAN / PACIFIC ISLANDER       0.34      0.21      0.26      1770\n",
      "                         BLACK       0.58      0.82      0.68     15352\n",
      "                BLACK HISPANIC       0.28      0.07      0.11      2655\n",
      "                       UNKNOWN       0.00      0.00      0.00       121\n",
      "                         WHITE       0.41      0.25      0.31      3480\n",
      "                WHITE HISPANIC       0.42      0.29      0.34      7635\n",
      "\n",
      "                      accuracy                           0.52     31102\n",
      "                     macro avg       0.29      0.24      0.24     31102\n",
      "                  weighted avg       0.48      0.52      0.48     31102\n",
      "\n"
     ]
    }
   ],
   "source": [
    "knn_model = Pipeline([('processing_pipeline', processing_pipeline),\n",
    "                  ('knn_classifier',KNeighborsClassifier(n_neighbors=10))])\n",
    "\n",
    "print(\"Testing Scores:: Classification Report:\\n\")\n",
    "knn_model.fit(X_train,y_train)\n",
    "decision_predict = knn_model.predict(X_test)\n",
    "print(classification_report(y_test, decision_predict))"
   ]
  },
  {
   "cell_type": "markdown",
   "id": "0defa9da",
   "metadata": {},
   "source": [
    "- This model has training accuracy of 52% with testing data. let's see the training report."
   ]
  },
  {
   "cell_type": "code",
   "execution_count": 106,
   "id": "279115c4",
   "metadata": {},
   "outputs": [
    {
     "name": "stdout",
     "output_type": "stream",
     "text": [
      "Training Scores for KNN Model: Classification Report:\n",
      "\n",
      "                                precision    recall  f1-score   support\n",
      "\n",
      "AMERICAN INDIAN/ALASKAN NATIVE       0.50      0.01      0.02       354\n",
      "      ASIAN / PACIFIC ISLANDER       0.42      0.27      0.33      6823\n",
      "                         BLACK       0.61      0.86      0.72     61781\n",
      "                BLACK HISPANIC       0.43      0.11      0.18     10921\n",
      "                       UNKNOWN       0.58      0.02      0.05       466\n",
      "                         WHITE       0.50      0.31      0.38     13583\n",
      "                WHITE HISPANIC       0.51      0.36      0.42     30477\n",
      "\n",
      "                      accuracy                           0.58    124405\n",
      "                     macro avg       0.51      0.28      0.30    124405\n",
      "                  weighted avg       0.55      0.58      0.53    124405\n",
      "\n"
     ]
    }
   ],
   "source": [
    "knn_trainPre = knn_model.predict(X_train)\n",
    "print(\"Training Scores for KNN Model: Classification Report:\\n\")\n",
    "print(classification_report(y_train, knn_trainPre))"
   ]
  },
  {
   "cell_type": "markdown",
   "id": "19ea9f59",
   "metadata": {},
   "source": [
    "- The training model has accuracy of 58% which is slightly lower than dt model. plotting ROC curve."
   ]
  },
  {
   "cell_type": "code",
   "execution_count": 102,
   "id": "6e05633b",
   "metadata": {},
   "outputs": [
    {
     "data": {
      "image/png": "[encoded data removed]",
      "text/plain": [
       "<Figure size 432x288 with 1 Axes>"
      ]
     },
     "metadata": {
      "needs_background": "light"
     },
     "output_type": "display_data"
    },
    {
     "name": "stdout",
     "output_type": "stream",
     "text": [
      "\u001b[1mThe area of curve is 0.63788716171104\n"
     ]
    }
   ],
   "source": [
    "y_testprobability = knn_model.fit(X_train,y_train).predict_proba(X_test)\n",
    "y_trainprobability = knn_model.fit(X_train,y_train).predict_proba(X_train)\n",
    "\n",
    "fpr_test, tpr_test = roc(y_test, y_testprobability[:,1])\n",
    "fpr_train, tpr_train = roc(y_train, y_trainprobability[:,1])\n",
    "auc = roc_auc_score(y_test, y_testprobability, multi_class = 'ovr')\n",
    "\n",
    "plt.plot(fpr_test, tpr_test,'-r')\n",
    "plt.plot(fpr_train, tpr_train,'-b')\n",
    "plt.title('ROC Curve for KNN Model')\n",
    "plt.xlabel('FP_Rate')\n",
    "plt.ylabel('TP_Rate')\n",
    "plt.legend(['Test','Training'])\n",
    "plt.plot([0, 1], [0, 1], color='navy', linestyle='--')\n",
    "plt.show()\n",
    "print(f'\\033[1mThe area of curve is {auc}')"
   ]
  },
  {
   "cell_type": "markdown",
   "id": "1a42e9ae",
   "metadata": {},
   "source": [
    "##### Overall observations on KNN Model:\n",
    "- Highest precision,recall and f1-score is observed for 'BLACK' category.\n",
    "- The ROC curve has AUC of 0.64 which is lower than both models."
   ]
  },
  {
   "cell_type": "markdown",
   "id": "7dc0f0ec",
   "metadata": {},
   "source": [
    "## Conclusion & Recommended Model"
   ]
  },
  {
   "cell_type": "code",
   "execution_count": 107,
   "id": "b8bff6e5",
   "metadata": {},
   "outputs": [
    {
     "name": "stdout",
     "output_type": "stream",
     "text": [
      "Training Scores for LR Model: Classification Report:\n",
      "\n",
      "                                precision    recall  f1-score   support\n",
      "\n",
      "AMERICAN INDIAN/ALASKAN NATIVE       0.00      0.00      0.00       354\n",
      "      ASIAN / PACIFIC ISLANDER       0.55      0.04      0.07      6823\n",
      "                         BLACK       0.52      0.97      0.67     61781\n",
      "                BLACK HISPANIC       0.58      0.01      0.02     10921\n",
      "                       UNKNOWN       1.00      0.02      0.03       466\n",
      "                         WHITE       0.47      0.07      0.12     13583\n",
      "                WHITE HISPANIC       0.42      0.08      0.13     30477\n",
      "\n",
      "                      accuracy                           0.51    124405\n",
      "                     macro avg       0.50      0.17      0.15    124405\n",
      "                  weighted avg       0.49      0.51      0.39    124405\n",
      "\n",
      "Training Scores for DT Model: Classification Report:\n",
      "\n",
      "                                precision    recall  f1-score   support\n",
      "\n",
      "AMERICAN INDIAN/ALASKAN NATIVE       0.53      0.07      0.12       354\n",
      "      ASIAN / PACIFIC ISLANDER       0.51      0.29      0.37      6823\n",
      "                         BLACK       0.64      0.88      0.74     61781\n",
      "                BLACK HISPANIC       0.57      0.13      0.22     10921\n",
      "                       UNKNOWN       0.84      0.09      0.16       466\n",
      "                         WHITE       0.53      0.37      0.43     13583\n",
      "                WHITE HISPANIC       0.53      0.41      0.46     30477\n",
      "\n",
      "                      accuracy                           0.60    124405\n",
      "                     macro avg       0.59      0.32      0.36    124405\n",
      "                  weighted avg       0.59      0.60      0.57    124405\n",
      "\n",
      "Training Scores for KNN Model: Classification Report:\n",
      "\n",
      "                                precision    recall  f1-score   support\n",
      "\n",
      "AMERICAN INDIAN/ALASKAN NATIVE       0.50      0.01      0.02       354\n",
      "      ASIAN / PACIFIC ISLANDER       0.42      0.27      0.33      6823\n",
      "                         BLACK       0.61      0.86      0.72     61781\n",
      "                BLACK HISPANIC       0.43      0.11      0.18     10921\n",
      "                       UNKNOWN       0.58      0.02      0.05       466\n",
      "                         WHITE       0.50      0.31      0.38     13583\n",
      "                WHITE HISPANIC       0.51      0.36      0.42     30477\n",
      "\n",
      "                      accuracy                           0.58    124405\n",
      "                     macro avg       0.51      0.28      0.30    124405\n",
      "                  weighted avg       0.55      0.58      0.53    124405\n",
      "\n"
     ]
    }
   ],
   "source": [
    "print(\"Training Scores for LR Model: Classification Report:\\n\")\n",
    "print(classification_report(y_train, lr_trainPre))\n",
    "print(\"Training Scores for DT Model: Classification Report:\\n\")\n",
    "print(classification_report(y_train, dt_trainPre))\n",
    "print(\"Training Scores for KNN Model: Classification Report:\\n\")\n",
    "print(classification_report(y_train, knn_trainPre))"
   ]
  },
  {
   "cell_type": "markdown",
   "id": "0b79b203",
   "metadata": {},
   "source": [
    "#### Based on above results, I would consider Decision Tree model for predicting race.\n",
    "#### We can use better modelling techniques to improve the accuracy of class imbalances."
   ]
  }
 ],
 "metadata": {
  "kernelspec": {
   "display_name": "Python 3 (ipykernel)",
   "language": "python",
   "name": "python3"
  },
  "language_info": {
   "codemirror_mode": {
    "name": "ipython",
    "version": 3
   },
   "file_extension": ".py",
   "mimetype": "text/x-python",
   "name": "python",
   "nbconvert_exporter": "python",
   "pygments_lexer": "ipython3",
   "version": "3.9.12"
  }
 },
 "nbformat": 4,
 "nbformat_minor": 5
}
